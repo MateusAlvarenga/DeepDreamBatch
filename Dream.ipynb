{
 "cells": [
  {
   "cell_type": "code",
   "execution_count": 30,
   "metadata": {},
   "outputs": [],
   "source": [
    "import requests\n",
    "import os\n",
    "from dotenv import load_dotenv\n",
    "from api.DeepDreamApi import DeepDreamApi\n",
    "from adapters.Downloader import Downloader"
   ]
  },
  {
   "cell_type": "code",
   "execution_count": 31,
   "metadata": {},
   "outputs": [],
   "source": [
    "load_dotenv()\n",
    "\n",
    "API_KEY =  os.getenv('API_KEY')\n",
    "deepDreamApi = DeepDreamApi(API_KEY)\n",
    "downloader = Downloader()"
   ]
  },
  {
   "cell_type": "code",
   "execution_count": 25,
   "metadata": {},
   "outputs": [
    {
     "name": "stdout",
     "output_type": "stream",
     "text": [
      "{'id': 'd02157ba-28a1-4559-bd8a-1fd019f352b1', 'output_url': 'https://api.deepai.org/job-view-file/d02157ba-28a1-4559-bd8a-1fd019f352b1/outputs/output.jpg'}\n"
     ]
    }
   ],
   "source": [
    "response = deepDreamApi.post(\"./files/foo-001.jpeg\")\n",
    "print(response)"
   ]
  },
  {
   "cell_type": "code",
   "execution_count": 33,
   "metadata": {},
   "outputs": [
    {
     "name": "stdout",
     "output_type": "stream",
     "text": [
      "https://api.deepai.org/job-view-file/d02157ba-28a1-4559-bd8a-1fd019f352b1/outputs/output.jpg\n"
     ]
    }
   ],
   "source": [
    "print(response['output_url'])\n",
    "downloader.download(response['output_url'], \"./files/download/\", \"foo-001-deepdream.jpeg\")"
   ]
  },
  {
   "cell_type": "code",
   "execution_count": 29,
   "metadata": {},
   "outputs": [],
   "source": [
    "f = open(\"./files/download/demofile2.png\", \"a\")\n",
    " \n",
    "f.close()"
   ]
  }
 ],
 "metadata": {
  "kernelspec": {
   "display_name": "Python 3.10.4 64-bit",
   "language": "python",
   "name": "python3"
  },
  "language_info": {
   "codemirror_mode": {
    "name": "ipython",
    "version": 3
   },
   "file_extension": ".py",
   "mimetype": "text/x-python",
   "name": "python",
   "nbconvert_exporter": "python",
   "pygments_lexer": "ipython3",
   "version": "3.10.4"
  },
  "orig_nbformat": 4,
  "vscode": {
   "interpreter": {
    "hash": "32b6365f16a9560d1f64eaf7f0cd3e0262cb733df60217a199a198ac26346325"
   }
  }
 },
 "nbformat": 4,
 "nbformat_minor": 2
}
